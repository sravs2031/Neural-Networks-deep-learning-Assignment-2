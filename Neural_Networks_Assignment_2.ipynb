{
  "nbformat": 4,
  "nbformat_minor": 0,
  "metadata": {
    "colab": {
      "provenance": []
    },
    "kernelspec": {
      "name": "python3",
      "display_name": "Python 3"
    },
    "language_info": {
      "name": "python"
    }
  },
  "cells": [
    {
      "cell_type": "code",
      "execution_count": 2,
      "metadata": {
        "colab": {
          "base_uri": "https://localhost:8080/"
        },
        "id": "B0uuLZmvTOg3",
        "outputId": "87d92540-9564-4989-f7c5-d2a1d043c614"
      },
      "outputs": [
        {
          "output_type": "stream",
          "name": "stdout",
          "text": [
            "Enter firstname: Sravani \n",
            "Enter lastname: Mannuru\n",
            "Fullname is: Sravani Mannuru\n",
            "Alternate string: SaaiMnuu\n"
          ]
        }
      ],
      "source": [
        "def fullname(firstname,lastname):\n",
        "  fullname=firstname+lastname\n",
        "  return fullname\n",
        "\n",
        "\n",
        "def string_alternative(result):\n",
        "  return result[::2]\n",
        "\n",
        "if __name__ == '__main__':\n",
        "  firstname=input('Enter firstname: ')\n",
        "  lastname=input('Enter lastname: ')\n",
        "  result = fullname(firstname, lastname)\n",
        "  print(f'Fullname is: {result}')\n",
        "  print(f'Alternate string: {string_alternative(result)}')"
      ]
    },
    {
      "cell_type": "code",
      "source": [
        "sample_text = \"\"\"This is Sravani\n",
        "Neural Network course\n",
        "Machine learning course\"\"\"\n",
        "\n",
        "with open('input.txt', 'w') as file:\n",
        "    file.write(sample_text)\n",
        "\n",
        "with open('input.txt', 'r') as file:\n",
        "    lines = file.readlines()\n",
        "\n",
        "word_counts = {}\n",
        "for line in lines:\n",
        "    words = line.split()\n",
        "    for word in words:\n",
        "        word_counts[word] = word_counts.get(word, 0) + 1\n",
        "\n",
        "print(\"Input:\")\n",
        "for line in lines:\n",
        "    print(line.strip())\n",
        "\n",
        "print(\"Word count:\")\n",
        "for word, count in word_counts.items():\n",
        "    print(f\"{word}: {count}\")\n",
        "\n",
        "with open('output.txt', 'w') as output_file:\n",
        "    output_file.write(\"Input:\\n\")\n",
        "    for line in lines:\n",
        "        output_file.write(line)\n",
        "\n",
        "    output_file.write(\"\\nWord count:\\n\")\n",
        "    for word, count in word_counts.items():\n",
        "        output_file.write(f\"{word}: {count}\\n\")"
      ],
      "metadata": {
        "colab": {
          "base_uri": "https://localhost:8080/"
        },
        "id": "_EV1yACoTg2y",
        "outputId": "169b4cc2-8196-431a-ac2a-caf1d665b93d"
      },
      "execution_count": 4,
      "outputs": [
        {
          "output_type": "stream",
          "name": "stdout",
          "text": [
            "Input:\n",
            "This is Sravani\n",
            "Neural Network course\n",
            "Machine learning course\n",
            "Word count:\n",
            "This: 1\n",
            "is: 1\n",
            "Sravani: 1\n",
            "Neural: 1\n",
            "Network: 1\n",
            "course: 2\n",
            "Machine: 1\n",
            "learning: 1\n"
          ]
        }
      ]
    },
    {
      "cell_type": "code",
      "source": [
        "n = int(input(\"Enter number of element in list: \"))\n",
        "height_inches=[]\n",
        "height_cm = []\n",
        "for i in range(n):\n",
        "  element = int(input(f\"enter {i} element: \"))\n",
        "  height_inches.append(element)\n",
        "\n",
        "for i in height_inches:\n",
        "  height_cm.append(i*2.54)\n",
        "\n",
        "\n",
        "list_comprehension_output = [i*2.54 for i in height_inches]\n",
        "print(height_cm)\n",
        "print(list_comprehension_output)"
      ],
      "metadata": {
        "colab": {
          "base_uri": "https://localhost:8080/"
        },
        "id": "mujpUVONTy5M",
        "outputId": "90627064-aa39-41ee-c656-acc66167a84f"
      },
      "execution_count": 9,
      "outputs": [
        {
          "output_type": "stream",
          "name": "stdout",
          "text": [
            "Enter number of element in list: 5\n",
            "enter 0 element: 25\n",
            "enter 1 element: 68\n",
            "enter 2 element: 46\n",
            "enter 3 element: 95\n",
            "enter 4 element: 74\n",
            "[63.5, 172.72, 116.84, 241.3, 187.96]\n",
            "[63.5, 172.72, 116.84, 241.3, 187.96]\n"
          ]
        }
      ]
    }
  ]
}